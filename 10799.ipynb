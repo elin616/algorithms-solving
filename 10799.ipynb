{
 "cells": [
  {
   "cell_type": "code",
   "execution_count": 11,
   "metadata": {},
   "outputs": [
    {
     "name": "stdout",
     "output_type": "stream",
     "text": [
      "17\n"
     ]
    }
   ],
   "source": [
    "# 10799 <- stack문제\n",
    "# input1) ()(((()())(())()))(())\n",
    "# input2) (((()(()()))(())()))(()())\n",
    "input_d = input()\n",
    "\n",
    "# 초기값 설정\n",
    "ls = []\n",
    "cut_cnt = 0\n",
    "stick_cnt = 0\n",
    "\n",
    "for s in range(len(input_d)):\n",
    "    \n",
    "    check = input_d[s]\n",
    "\n",
    "    if check == '(': # (은 막대기의 시작이므로 막대기 개수 + 1\n",
    "        stick_cnt += 1\n",
    "        ls.append(check)\n",
    "\n",
    "    elif check ==')': \n",
    "        if ls[-1] == '(': # ()인 경우 막대기의 개수에 잘못 포함된 ( 개수 -1 -> 레이저 한번 발사하면 막대기 개수만큼 잘려나감 -> 조각개수 = 막대기 개수\n",
    "            stick_cnt -= 1\n",
    "            cut_cnt += stick_cnt\n",
    "        elif ls[-1] == ')': # ))라면 막대기가 하나 끝난 것이므로 막대기 개수 -1 -> 알아서 조각나므로 조각개수 +1\n",
    "            cut_cnt += 1\n",
    "            stick_cnt -= 1\n",
    "        ls.append(check)\n",
    "\n",
    "print(cut_cnt)\n",
    "\n"
   ]
  },
  {
   "cell_type": "code",
   "execution_count": null,
   "metadata": {},
   "outputs": [],
   "source": []
  }
 ],
 "metadata": {
  "interpreter": {
   "hash": "3a99e4659bab2c89ba1c528d87e227f28463703a7b348482ba6d5a251112a9b6"
  },
  "kernelspec": {
   "display_name": "Python 3.8.8 ('22vscodeV1')",
   "language": "python",
   "name": "python3"
  },
  "language_info": {
   "codemirror_mode": {
    "name": "ipython",
    "version": 3
   },
   "file_extension": ".py",
   "mimetype": "text/x-python",
   "name": "python",
   "nbconvert_exporter": "python",
   "pygments_lexer": "ipython3",
   "version": "3.8.8"
  },
  "orig_nbformat": 4
 },
 "nbformat": 4,
 "nbformat_minor": 2
}
