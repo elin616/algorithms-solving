{
 "cells": [
  {
   "cell_type": "code",
   "execution_count": 4,
   "metadata": {},
   "outputs": [],
   "source": [
    "cnt1, cnt2 = map(int,input().split())\n",
    "s = set()\n",
    "for _ in range(cnt1):\n",
    "    string1 = input()\n",
    "    s.add(string1)\n",
    "check = 0 \n",
    "for _ in range(cnt2):\n",
    "    string2 = input()\n",
    "    if string2 in s:\n",
    "        check += 1\n",
    "print (check)\n"
   ]
  }
 ],
 "metadata": {
  "interpreter": {
   "hash": "3a99e4659bab2c89ba1c528d87e227f28463703a7b348482ba6d5a251112a9b6"
  },
  "kernelspec": {
   "display_name": "Python 3.8.8 ('22vscodeV1')",
   "language": "python",
   "name": "python3"
  },
  "language_info": {
   "codemirror_mode": {
    "name": "ipython",
    "version": 3
   },
   "file_extension": ".py",
   "mimetype": "text/x-python",
   "name": "python",
   "nbconvert_exporter": "python",
   "pygments_lexer": "ipython3",
   "version": "3.8.8"
  },
  "orig_nbformat": 4
 },
 "nbformat": 4,
 "nbformat_minor": 2
}
